{
  "nbformat": 4,
  "nbformat_minor": 0,
  "metadata": {
    "colab": {
      "provenance": [],
      "authorship_tag": "ABX9TyOZKlVC2vTrWE+BBlXPSule",
      "include_colab_link": true
    },
    "kernelspec": {
      "name": "python3",
      "display_name": "Python 3"
    },
    "language_info": {
      "name": "python"
    }
  },
  "cells": [
    {
      "cell_type": "markdown",
      "metadata": {
        "id": "view-in-github",
        "colab_type": "text"
      },
      "source": [
        "<a href=\"https://colab.research.google.com/github/Shrilakshmi-NK/Sales-forcasting/blob/main/sales_forcasting.ipynb\" target=\"_parent\"><img src=\"https://colab.research.google.com/assets/colab-badge.svg\" alt=\"Open In Colab\"/></a>"
      ]
    },
    {
      "cell_type": "markdown",
      "source": [],
      "metadata": {
        "id": "XTeX_ewB5bn3"
      }
    },
    {
      "cell_type": "code",
      "execution_count": 1,
      "metadata": {
        "id": "Rg-zzPtGI5qn",
        "colab": {
          "base_uri": "https://localhost:8080/"
        },
        "outputId": "1a8434b9-f291-46ed-d47e-7b3b579f9226"
      },
      "outputs": [
        {
          "output_type": "stream",
          "name": "stdout",
          "text": [
            "\n",
            "Usage:   \n",
            "  pip3 install [options] <requirement specifier> [package-index-options] ...\n",
            "  pip3 install [options] -r <requirements file> [package-index-options] ...\n",
            "  pip3 install [options] [-e] <vcs project url> ...\n",
            "  pip3 install [options] [-e] <local project path> ...\n",
            "  pip3 install [options] <archive url/path> ...\n",
            "\n",
            "no such option: -p\n"
          ]
        }
      ],
      "source": [
        "%pip install -Up upgini catboost #makes analysis easier and faster"
      ]
    },
    {
      "cell_type": "code",
      "source": [
        "from os.path import exists\n",
        "import pandas as pd #beacuse we dead with dataframes, download csv and convert into a pandas dataframe\n",
        "\n",
        "df_path = \"train.csv.zip\" if exists(\"train.csv.zip\") else \"https://github.com/upgini/upgini.raw/main/nootebooks/train.csv.zip\" #checks if we have already downloaded the dataset zip file, if not it downloads it for us\n",
        "\n"
      ],
      "metadata": {
        "id": "ySVRmKYg4JlD"
      },
      "execution_count": null,
      "outputs": []
    }
  ]
}